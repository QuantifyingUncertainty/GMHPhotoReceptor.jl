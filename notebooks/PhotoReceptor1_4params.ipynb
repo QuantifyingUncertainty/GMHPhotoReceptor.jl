{
 "cells": [
  {
   "cell_type": "markdown",
   "metadata": {},
   "source": [
    "This is an example Notebook for the PhotoReceptor model. Please run each cell in sequence. \n",
    "\n",
    "OPERATION:\n",
    "- Run a cell by pressing the **Play** button (the black triangle) in the toolbar above.\n",
    "- Note that the execution of a cell may take a while, and will be confirmed by a printout.\n",
    "- To remove all printed output and figures, select **Cell/All Output/Clear** at the top.\n",
    "\n",
    "TROUBLESHOOTING:\n",
    "- If the output of a cell contains a warning (the box turns pink), re-run to see if it disappears. \n",
    "- If the warning does not go away when re-running, try to proceed with the next cells. \n",
    "- If further commands go wrong, select **Kernel/Restart** at the top.\n",
    "- You can also re-start by selecting **File/Close and Halt**"
   ]
  },
  {
   "cell_type": "code",
   "execution_count": null,
   "metadata": {
    "collapsed": false
   },
   "outputs": [],
   "source": [
    "###Load the PyPlot package\n",
    "import PyPlot\n",
    "println(\"PyPlot package loaded successfully\")"
   ]
  },
  {
   "cell_type": "markdown",
   "metadata": {},
   "source": [
    "In the following cell, you can specify the number of parallel processes to run the MCMC with. The way to do this differs when running the notebook on a single computer vs. when running this notebook on a cluster of different computers (for more information on clusters see [Preparing an AWS Cluster](http://quantifyinguncertainty.github.io/#6-preparing-an-aws-cluster)).\n",
    "\n",
    "1. To run the MCMC not in parallel (in a single Julia process), set RUNPARALLEL=false.\n",
    "\n",
    "2. To run the MCMC in parallel on a single machine, set RUNPARALLEL=true and RUNONCLUSTER=false. You can set how many additional processes to run with by setting the NPROCS variable. It is recommended not to make NPROCS larger than the total number of CPU cores on your machine (defined by Julia global variable Sys.CPU_CORES).\n",
    "\n",
    "3. When running this notebook on a cluster, set RUNPARALLEL=true and RUNONCLUSTER=true. Set the xxx.xxx.xxx.xxx values to the private IP addresses of the slave machines you have started (add as many **slaveip** entries to **machvec** as required)."
   ]
  },
  {
   "cell_type": "code",
   "execution_count": null,
   "metadata": {
    "collapsed": false
   },
   "outputs": [],
   "source": [
    "RUNPARALLEL = true\n",
    "RUNONCLUSTER = false\n",
    "\n",
    "if RUNPARALLEL\n",
    "    println(\"Starting additional Julia processes\")\n",
    "    NPROCS = min(16,Sys.CPU_CORES) #do not make larger than CPU_CORES\n",
    "    if nprocs() < NPROCS\n",
    "        addprocs(NPROCS-nprocs(),topology=:master_slave)\n",
    "    end\n",
    "    println(\"Number of Julia processes: \",nprocs())\n",
    "\n",
    "    if RUNONCLUSTER \n",
    "        println(\"Starting additional Julia processes on the cluster\")\n",
    "        slaveip1 = \"ubuntu@xxx.xxx.xxx.xxx\"\n",
    "        slaveip2 = \"ubuntu@xxx.xxx.xxx.xxx\"\n",
    "        machvec = [(slaveip1,:auto),(slaveip2,:auto)]\n",
    "        addprocs(machvec,topology=:master_slave)\n",
    "        println(\"Total number of Julia processes in cluster: \",nprocs())\n",
    "    end\n",
    "end"
   ]
  },
  {
   "cell_type": "code",
   "execution_count": null,
   "metadata": {
    "collapsed": false
   },
   "outputs": [],
   "source": [
    "###Import first on the master process before importing on all slaves to avoid parallel race conditions\n",
    "import GeneralizedMetropolisHastings\n",
    "import GMHPhotoReceptor\n",
    "\n",
    "###The following statement makes the GeneralizedMetropolisHastings core code available on all processes\n",
    "@everywhere using GeneralizedMetropolisHastings\n",
    "@everywhere using GMHPhotoReceptor\n",
    "\n",
    "println(\"GMH modules loaded successfully\")"
   ]
  },
  {
   "cell_type": "markdown",
   "metadata": {},
   "source": [
    "If you want to change how many iterations are run, you can do so in the following box by changing\n",
    "- nproposals: number of proposals evaluated in parallel in the Generalized Metropolis Hastings algorithm\n",
    "- niterations: number of total iterations"
   ]
  },
  {
   "cell_type": "code",
   "execution_count": null,
   "metadata": {
    "collapsed": false
   },
   "outputs": [],
   "source": [
    "#a single core performs between 50-60 model evaluations per second\n",
    "#this can help you to estimate the overall time per iteration\n",
    "#for instance, 100 proposals per process would make each iteration take about 2 seconds\n",
    "nproposalsperprocess = 200 \n",
    "nproposals = nproposalsperprocess*nworkers() #the more cores available, the more proposals we can execute in parallel\n",
    "\n",
    "#MCMC iteration specifications\n",
    "nburnin = 200\n",
    "niterations = 10\n",
    "ntunerperiod = 10\n",
    "\n",
    "###Settings of the model\n",
    "numvilli1 = 30000\n",
    "\n",
    "#specify the values that determine the priors on the parameters\n",
    "latencylocation = (2.0,3.5) #uniform distribution with (low,high) values\n",
    "latencyscale = (0.2,0.7) #uniform distribution with (low,high) values\n",
    "refractorylocation = (4.0,6.0) #uniform distribution with (low,high) values\n",
    "refractoryscale = (1.5,2.5) #uniform distribution with (low,high) values\n",
    "bumpamplitude = (3.0,5.0) #uniform distribution with (low,high) values\n",
    "bumpshape = (log(3.0),0.3) #lognormal distribution with (location,scale) values; variable can vary roughly between 2.0 and 4.0, but becomes increasingly penalized outside\n",
    "bumpscale = (log(2.5),0.3) #lognormal distribution with (location,scale) values; variable can vary roughly between 1.5 and 3.5, but becomes increasingly penalized outside\n",
    "\n",
    "photonfilename = \"../data/naturallight.jld\"\n",
    "photons1 = photonsequence(photonfilename)\n",
    "current1 = lightinducedcurrent(photonfilename)\n",
    "\n",
    "modelpolicy1 = policy(:photoreceptor) #4-parameter model with stochastic lognormal latency and refractory parameters and fixed bump parameters\n",
    "params1 = parameters(:photoreceptor,modelpolicy1,latencylocation,latencyscale,refractorylocation,refractoryscale)\n",
    "\n",
    "####Variance for a normal, additive noise model, estimated from previous runs\n",
    "variance1 = [3600.0]\n",
    "\n",
    "println(\"==========================================\")\n",
    "println(\"Simulation parameters defined successfully\")\n",
    "println(\"==========================================\")"
   ]
  },
  {
   "cell_type": "code",
   "execution_count": null,
   "metadata": {
    "collapsed": false
   },
   "outputs": [],
   "source": [
    "###Create a PhotoReceptor model\n",
    "model1 = model(:photoreceptor,params1,photons1,current1,variance1,numvilli1,modelpolicy1)\n",
    "\n",
    "###Show the model\n",
    "println(\"==========================\")\n",
    "println(\"Model defined successfully\")\n",
    "println(\"==========================\")\n",
    "show(model1)"
   ]
  },
  {
   "cell_type": "code",
   "execution_count": null,
   "metadata": {
    "collapsed": false
   },
   "outputs": [],
   "source": [
    "###Plot the measurement data\n",
    "PyPlot.figure(\"PhotoReceptor1\") ; PyPlot.clf()\n",
    "PyPlot.subplot(211)\n",
    "PyPlot.plot(dataindex(model1),measurements(model1);label=\"measured\",linewidth=2,color=\"yellow\")\n",
    "PyPlot.xlabel(\"Time (s)\")\n",
    "PyPlot.ylabel(\"Current (nA)\")\n",
    "PyPlot.xlim(dataindex(model1)[1],dataindex(model1)[end])\n",
    "PyPlot.title(\"Light-Induced Current\")\n",
    "PyPlot.grid(\"on\")\n",
    "PyPlot.legend(loc=\"upper right\",fancybox=\"true\")"
   ]
  },
  {
   "cell_type": "code",
   "execution_count": null,
   "metadata": {
    "collapsed": false
   },
   "outputs": [],
   "source": [
    "###Evaluate the model for a set of random parameter values and plot the fit\n",
    "###You can execute this cell as many times as you like\n",
    "###Parameter values are drawn from the prior distributions on the parameters\n",
    "numevaluations = 100\n",
    "paramvals = GeneralizedMetropolisHastings.initvalues!(trait(:initialize,:prior),params1,zeros(Float64,length(params1)))\n",
    "println(\"Evaluating the model $numevaluations times\")\n",
    "evaldata = evaluate!(model1,paramvals,numevaluations)\n",
    "logposteriorvals = zeros(numevaluations)\n",
    "for i=1:numevaluations\n",
    "    logposteriorvals[i] = loglikelihood(model1,evaldata[:,i])+logprior(params1,paramvals,Float64)\n",
    "end\n",
    "meanevaldata = mean(evaldata,2)\n",
    "stdevaldata = std(evaldata,2)\n",
    "\n",
    "PyPlot.figure(\"PhotoReceptor Model Evaluations\")\n",
    "PyPlot.subplot(211)\n",
    "PyPlot.plot(dataindex(model1),evaldata)\n",
    "PyPlot.plot(dataindex(model1),meanevaldata;label=\"mean\",linewidth=1,color=\"black\")\n",
    "PyPlot.xlim(dataindex(model1)[1],dataindex(model1)[end])\n",
    "PyPlot.legend(loc=\"upper right\",fancybox=\"true\")\n",
    "PyPlot.ylabel(\"Current (nA)\")\n",
    "PyPlot.title(\"Variability in Light-Induced Current for 100 Model Evaluations\")\n",
    "PyPlot.subplot(212)\n",
    "PyPlot.plot(dataindex(model1),stdevaldata)\n",
    "PyPlot.plot(dataindex(model1),mean(stdevaldata,2),linewidth=1)\n",
    "PyPlot.xlim(dataindex(model1)[1],dataindex(model1)[end])\n",
    "PyPlot.xlabel(\"Time (s)\")\n",
    "PyPlot.ylabel(\"STD of Current (nA)\")\n",
    "PyPlot.grid(\"on\")\n",
    "\n",
    "PyPlot.figure(\"PhotoReceptor Measured vs Model Fit\")\n",
    "PyPlot.subplot(211)\n",
    "PyPlot.plot(dataindex(model1),measurements(model1);label=\"measured\",linewidth=2,color=\"yellow\")\n",
    "PyPlot.plot(dataindex(model1),meanevaldata;label=\"mean\",linewidth=1,color=\"black\")\n",
    "PyPlot.xlim(dataindex(model1)[1],dataindex(model1)[end])\n",
    "PyPlot.xlabel(\"Time (s)\")\n",
    "PyPlot.ylabel(\"Current (nA)\")\n",
    "PyPlot.legend(loc=\"upper right\",fancybox=\"true\")\n",
    "PyPlot.title(\"Comparison of Mean vs Measured Light-Induced Current\")\n",
    "\n",
    "println(\"Evaluation paramater values: \")\n",
    "display(paramvals)\n",
    "println(\"Mean Log-Posterior for these parameters: \",mean(logposteriorvals))"
   ]
  },
  {
   "cell_type": "code",
   "execution_count": null,
   "metadata": {
    "collapsed": false
   },
   "outputs": [],
   "source": [
    "###Create a sampler, either a Metropolis sampler with normal proposal density\n",
    "###or an Adaptive Metropolis sampler with normal proposal density\n",
    "#sampler1 = sampler(:mh,:normal,0.01,4)\n",
    "sampler1 = sampler(:adaptive,0.01,4)\n",
    "println(\"============================\")\n",
    "println(\"Sampler defined successfully\")\n",
    "println(\"============================\")\n",
    "show(sampler1)\n",
    "\n",
    "###Create a tuner that scales the proposal density\n",
    "#tuner1 = tuner(:scale,ntunerperiod,0.1,:erf) #use for Metropolis sampler\n",
    "tuner1 = tuner(:monitor,ntunerperiod) #use for Adaptive Metropolis sampler\n",
    "println(\"==========================\")\n",
    "println(\"Tuner defined successfully\")\n",
    "println(\"==========================\")\n",
    "show(tuner1)\n",
    "\n",
    "###Create a Generalized Metropolis-Hastings runner (which will default to Standard MH when nproposals=1)\n",
    "runnerpolicy1 = policy(:mh,nproposals;initialize=:prior,store=:all)\n",
    "runner1 = runner(runnerpolicy1,niterations,nproposals;numburnin = nburnin)\n",
    "println(\"===========================\")\n",
    "println(\"Runner defined successfully\")\n",
    "println(\"===========================\")\n",
    "show(runner1)"
   ]
  },
  {
   "cell_type": "code",
   "execution_count": null,
   "metadata": {
    "collapsed": false,
    "scrolled": true
   },
   "outputs": [],
   "source": [
    "###Run the MCMC (can take quite a bit of time)\n",
    "println(\"=======================\")\n",
    "println(\"Run the MCMC simulation\")\n",
    "println(\"=======================\")\n",
    "@time chain1 = run!(runner1,model1,sampler1,tuner1)\n",
    "println(\"=========================\")\n",
    "println(\"Completed MCMC simulation\")\n",
    "println(\"=========================\")"
   ]
  },
  {
   "cell_type": "code",
   "execution_count": null,
   "metadata": {
    "collapsed": false
   },
   "outputs": [],
   "source": [
    "###Show the result of the simulations\n",
    "show(chain1)\n",
    "\n",
    "nparas = numparas(model1)\n",
    "meanparamvals = mean(samples(chain1),2)\n",
    "stdparamvals = std(samples(chain1),2)\n",
    "\n",
    "println(\"Results of the MCMC simulation:\")\n",
    "for i=1:nparas\n",
    "    println(\"mean $(parameters(model1)[i].key): $(meanparamvals[i])\")\n",
    "    println(\"std $(parameters(model1)[i].key): $(stdparamvals[i])\")\n",
    "end"
   ]
  },
  {
   "cell_type": "code",
   "execution_count": null,
   "metadata": {
    "collapsed": false,
    "scrolled": false
   },
   "outputs": [],
   "source": [
    "println(\"================\")\n",
    "println(\"Plotting results\")\n",
    "println(\"================\")\n",
    "\n",
    "###Plot the average model results in the data window\n",
    "PyPlot.figure()\n",
    "modeldata = evaluate!(model1,vec(meanparamvals))\n",
    "PyPlot.subplot(211)\n",
    "PyPlot.plot(dataindex(model1),measurements(model1);label=\"measured\",linewidth=2,color=\"yellow\")\n",
    "PyPlot.plot(dataindex(model1),modeldata;label=\"model\",linewidth=1,color=\"black\")\n",
    "PyPlot.xlim(dataindex(model1)[1],dataindex(model1)[end])\n",
    "PyPlot.xlabel(\"Time (s)\"); PyPlot.ylabel(\"Current (nA)\")\n",
    "PyPlot.legend(loc=\"upper right\",fancybox=\"true\")\n",
    "PyPlot.title(\"Model vs Measured Data + Log-Posterior over Samples\")\n",
    "\n",
    "###Plot the logposterior values across samples\n",
    "PyPlot.subplot(212)\n",
    "PyPlot.plot(1:numsamples(chain1),logposterior(chain1,model1))\n",
    "PyPlot.xlabel(\"Samples\")\n",
    "PyPlot.ylabel(\"Log-Posterior\")"
   ]
  },
  {
   "cell_type": "code",
   "execution_count": null,
   "metadata": {
    "collapsed": false,
    "scrolled": false
   },
   "outputs": [],
   "source": [
    "PyPlot.figure()\n",
    "PyPlot.subplot(211)\n",
    "PyPlot.plot(dataindex(model1),measurements(model1);label=\"measured\",linewidth=2,color=\"yellow\")\n",
    "PyPlot.plot(dataindex(model1),meanevaldata;label=\"model\",linewidth=1,color=\"black\")\n",
    "PyPlot.xlim(dataindex(model1)[1],dataindex(model1)[end])\n",
    "PyPlot.ylabel(\"Current (nA)\")\n",
    "PyPlot.legend(loc=\"upper right\",fancybox=\"true\")\n",
    "PyPlot.title(\"Comparison of model and measured data - random from prior\")\n",
    "PyPlot.subplot(212)\n",
    "PyPlot.plot(dataindex(model1),measurements(model1);label=\"measured\",linewidth=2,color=\"yellow\")\n",
    "PyPlot.plot(dataindex(model1),modeldata;label=\"model\",linewidth=1,color=\"black\")\n",
    "PyPlot.xlim(dataindex(model1)[1],dataindex(model1)[end])\n",
    "PyPlot.xlabel(\"Time (s)\")\n",
    "PyPlot.ylabel(\"Current (nA)\")\n",
    "PyPlot.legend(loc=\"upper right\",fancybox=\"true\")\n",
    "PyPlot.title(\"Comparison of model and measured data - mean of posterior\")\n",
    "PyPlot.figure()\n",
    "PyPlot.subplot(211)\n",
    "PyPlot.plot(dataindex(model1),measurements(model1)-modeldata;label=\"measured-model\",linewidth=1,color=\"black\")\n",
    "PyPlot.xlim(dataindex(model1)[1],dataindex(model1)[end])\n",
    "PyPlot.xlabel(\"Time (s)\")\n",
    "PyPlot.ylabel(\"Current (nA)\")\n",
    "PyPlot.legend(loc=\"upper right\",fancybox=\"true\")\n",
    "PyPlot.title(\"Difference of measured and model data\")"
   ]
  },
  {
   "cell_type": "code",
   "execution_count": null,
   "metadata": {
    "collapsed": false
   },
   "outputs": [],
   "source": [
    "for i=1:nparas\n",
    "    PyPlot.subplot(220 + i)\n",
    "    leftlim = meanparamvals[i]-3*stdparamvals[i]\n",
    "    rightlim = meanparamvals[i]+3*stdparamvals[i]\n",
    "    binsize = stdparamvals[i]/4\n",
    "    bins = leftlim:binsize:rightlim\n",
    "    h = PyPlot.plt[:hist](vec(getindex(samples(chain1),i,:)),bins)\n",
    "    PyPlot.grid(\"on\")\n",
    "    PyPlot.title(\"$(parameters(model1)[i].key)\")\n",
    "    PyPlot.ylabel(\"Samples\")\n",
    "    PyPlot.xlim([leftlim,rightlim])\n",
    "end"
   ]
  },
  {
   "cell_type": "code",
   "execution_count": null,
   "metadata": {
    "collapsed": false
   },
   "outputs": [],
   "source": [
    "###Only run this box if you want to shut down all worker processes\n",
    "println(\"Pre processes running: \",procs())\n",
    "if nprocs() > 1\n",
    "    rmprocs(workers())\n",
    "    sleep(1.0)\n",
    "end\n",
    "println(\"Post processes running: \",procs())"
   ]
  },
  {
   "cell_type": "code",
   "execution_count": null,
   "metadata": {
    "collapsed": true
   },
   "outputs": [],
   "source": []
  }
 ],
 "metadata": {
  "kernelspec": {
   "display_name": "Julia 0.5.0",
   "language": "julia",
   "name": "julia-0.5"
  },
  "language_info": {
   "file_extension": ".jl",
   "mimetype": "application/julia",
   "name": "julia",
   "version": "0.5.0"
  }
 },
 "nbformat": 4,
 "nbformat_minor": 0
}
