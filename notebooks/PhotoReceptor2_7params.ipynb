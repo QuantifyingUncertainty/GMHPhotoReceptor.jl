{
 "cells": [
  {
   "cell_type": "markdown",
   "metadata": {},
   "source": [
    "This is an example script for the PhotoReceptor model. Please run each cell in sequence.\n",
    "\n",
    "If you want to change how many iterations are run, you can do so in the second cell.\n",
    "- nproposals: number of proposals evaluated in parallel in the Generalized Metropolis Hastings algorithm\n",
    "- niterations: number of total iterations\n",
    "\n",
    "The values given below (1000 proposals for 100 iterations) will take about 5 minutes to run on an 8-core machine.\n",
    "\n",
    "Remember that you can remove output from the cells by selecting \"Cell/All Output/Clear\". And if the Kernel hangs for some reason, then you can choose \"Kernel/Restart\" from the menu."
   ]
  },
  {
   "cell_type": "code",
   "execution_count": 3,
   "metadata": {
    "collapsed": false
   },
   "outputs": [
    {
     "name": "stderr",
     "output_type": "stream",
     "text": [
      "INFO: Recompiling stale cache file /home/juser/.julia/lib/v0.4/MacroTools.ji for module MacroTools.\n",
      "WARNING: Module Compat uuid did not match cache file\n",
      "  This is likely because module Compat does not support  precompilation but is imported by a module that does.\n",
      "WARNING: deserialization checks failed while attempting to load cache from /home/juser/.julia/lib/v0.4/MacroTools.ji\n",
      "INFO: Recompiling stale cache file /opt/julia_packages/.julia/lib/v0.4/MacroTools.ji for module MacroTools.\n",
      "INFO: Recompiling stale cache file /home/juser/.julia/lib/v0.4/PyPlot.ji for module PyPlot.\n",
      "INFO: Recompiling stale cache file /home/juser/.julia/lib/v0.4/PyCall.ji for module PyCall.\n",
      "WARNING: Module JSON uuid did not match cache file\n",
      "  This is likely because module JSON does not support  precompilation but is imported by a module that does.\n",
      "WARNING: deserialization checks failed while attempting to load cache from /home/juser/.julia/lib/v0.4/PyPlot.ji\n",
      "INFO: Recompiling stale cache file /opt/julia_packages/.julia/lib/v0.4/PyPlot.ji for module PyPlot.\n",
      "INFO: Recompiling stale cache file /home/juser/.julia/lib/v0.4/Colors.ji for module Colors.\n",
      "WARNING: Module Compat uuid did not match cache file\n",
      "  This is likely because module Compat does not support  precompilation but is imported by a module that does.\n",
      "WARNING: deserialization checks failed while attempting to load cache from /home/juser/.julia/lib/v0.4/Colors.ji\n",
      "INFO: Recompiling stale cache file /opt/julia_packages/.julia/lib/v0.4/Colors.ji for module Colors.\n",
      "WARNING: Module Reexport uuid did not match cache file\n",
      "  This is likely because module Reexport does not support  precompilation but is imported by a module that does.\n",
      "WARNING: deserialization checks failed while attempting to load cache from /opt/julia_packages/.julia/lib/v0.4/Colors.ji\n",
      "INFO: Precompiling module Colors...\n",
      "INFO: Recompiling stale cache file /home/juser/.julia/lib/v0.4/Colors.ji for module Colors.\n",
      "WARNING: Module ColorTypes uuid did not match cache file\n",
      "  This is likely because module ColorTypes does not support  precompilation but is imported by a module that does.\n"
     ]
    },
    {
     "ename": "LoadError",
     "evalue": "LoadError: __precompile__(true) but require failed to create a precompiled cache file\nwhile loading In[3], in expression starting on line 2",
     "output_type": "error",
     "traceback": [
      "LoadError: __precompile__(true) but require failed to create a precompiled cache file\nwhile loading In[3], in expression starting on line 2",
      "",
      " in require at ./loading.jl:268",
      " in _require_from_serialized at loading.jl:84",
      " in _require_from_serialized at ./loading.jl:109",
      " in require at ./loading.jl:235"
     ]
    }
   ],
   "source": [
    "###Load the PyPlot package\n",
    "import PyPlot\n",
    "println(\"PyPlot package loaded successfully\")\n",
    "\n",
    "###You will need to run this cell only once, unless some workers crash and shut down\n",
    "NPROCS = 17 #make this the number of processors on your machine. For JuliaBox, it is 16\n",
    "if nprocs() < NPROCS\n",
    "    addprocs(NPROCS-nprocs())\n",
    "end\n",
    "println(\"Number of parallel processes: \",nprocs())\n",
    "\n",
    "import GeneralizedMetropolisHastings\n",
    "import GMHPhotoReceptor\n",
    "\n",
    "@everywhere using GeneralizedMetropolisHastings\n",
    "@everywhere using GMHPhotoReceptor\n",
    "println(\"GMH modules loaded successfully\")"
   ]
  },
  {
   "cell_type": "code",
   "execution_count": null,
   "metadata": {
    "collapsed": false
   },
   "outputs": [],
   "source": [
    "#Standard M-H for nproposals == 1\n",
    "#Generalized M-H for nproposals > 1\n",
    "nproposals = 1024\n",
    "\n",
    "#MCMC iteration specifications\n",
    "nburnin = 100\n",
    "niterations = 100\n",
    "ntunerperiod = 10\n",
    "\n",
    "###Values of the model\n",
    "numvilli1 = 30000\n",
    "\n",
    "#specify the values that determine the priors on the parameters\n",
    "latencylocation = (2.0,3.5) #uniform distribution with (low,high) values\n",
    "latencyscale = (0.2,0.7) #uniform distribution with (low,high) values\n",
    "refractorylocation = (4.0,6.0) #uniform distribution with (low,high) values\n",
    "refractoryscale = (1.5,2.5) #uniform distribution with (low,high) values\n",
    "bumpamplitude = (3.0,5.0) #uniform distribution with (low,high) values\n",
    "bumpshape = (log(3.0),0.1) #lognormal distribution with (location,scale) \n",
    "bumpscale = (log(2.5),0.1) #lognormal distribution with (location,scale)\n",
    "\n",
    "photons1 = photonsequence(\"../data/naturallight.jld\")\n",
    "current1 = lightinducedcurrent(\"../data/naturallight.jld\")\n",
    "\n",
    "modelpolicy1 = policy(:photoreceptor;bump = :sample) #7-parameter model with latency, refractory and bump parameters\n",
    "params1 = parameters(:photoreceptor,modelpolicy1,latencylocation,latencyscale,refractorylocation,refractoryscale,\n",
    "                                                bumpamplitude,bumpshape,bumpscale)\n",
    "\n",
    "####Variance for the noise model, estimated from previous runs\n",
    "variance1 = [3600.0]\n",
    "\n",
    "println(\"==========================================\")\n",
    "println(\"Simulation parameters defined successfully\")\n",
    "println(\"==========================================\")"
   ]
  },
  {
   "cell_type": "code",
   "execution_count": null,
   "metadata": {
    "collapsed": false
   },
   "outputs": [],
   "source": [
    "###Create a PhotoReceptor model\n",
    "model1 = model(:photoreceptor,params1,photons1,current1,variance1,numvilli1,modelpolicy1)\n",
    "\n",
    "###Show the model\n",
    "println(\"==========================\")\n",
    "println(\"Model defined successfully\")\n",
    "println(\"==========================\")\n",
    "show(model1)"
   ]
  },
  {
   "cell_type": "code",
   "execution_count": null,
   "metadata": {
    "collapsed": false
   },
   "outputs": [],
   "source": [
    "###Plot the measurement data\n",
    "PyPlot.figure(\"PhotoReceptor-Measurement\") ; PyPlot.clf()\n",
    "PyPlot.plot(dataindex(model1),measurements(model1);label=\"measured\",linewidth=2)\n",
    "PyPlot.xlabel(\"Time\")\n",
    "PyPlot.ylabel(\"Current (nA)\")\n",
    "PyPlot.xlim(dataindex(model1)[1],dataindex(model1)[end])\n",
    "PyPlot.title(\"Light-Induced Current\")\n",
    "PyPlot.grid(\"on\")\n",
    "PyPlot.legend(loc=\"upper right\",fancybox=\"true\")"
   ]
  },
  {
   "cell_type": "code",
   "execution_count": null,
   "metadata": {
    "collapsed": false
   },
   "outputs": [],
   "source": [
    "###Evaluate the model for a set of parameter values and plot the fit\n",
    "###You can execute this cell as many times as you like\n",
    "###Parameter values are drawn from the prior distributions on the parameters\n",
    "numevaluations = 100\n",
    "paramvals = GeneralizedMetropolisHastings.initvalues!(trait(:initialize,:prior),params1,zeros(Float64,length(params1)))\n",
    "println(\"Evaluating the model $numevaluations times\")\n",
    "evaldata = evaluate!(model1,paramvals,numevaluations)\n",
    "logposteriorvals = zeros(numevaluations)\n",
    "for i=1:numevaluations\n",
    "    logposteriorvals[i] = loglikelihood(model1,evaldata[:,i])+logprior(params1,paramvals,Float64)\n",
    "end\n",
    "meanevaldata = mean(evaldata,2)\n",
    "\n",
    "PyPlot.figure(\"PhotoReceptor-Evaluated\")\n",
    "PyPlot.plot(dataindex(model1),evaldata)\n",
    "PyPlot.plot(dataindex(model1),meanevaldata;label=\"mean\",linewidth=1,color=\"yellow\")\n",
    "PyPlot.xlim(dataindex(model1)[1],dataindex(model1)[end])\n",
    "PyPlot.legend(loc=\"upper right\",fancybox=\"true\")\n",
    "PyPlot.title(\"Variability in Light-Induced Current for 100 Model Evaluations\")\n",
    "\n",
    "PyPlot.figure(\"PhotoReceptor-Mean-Measured\")\n",
    "PyPlot.plot(dataindex(model1),measurements(model1);label=\"measured\",linewidth=1,color=\"magenta\")\n",
    "PyPlot.plot(dataindex(model1),meanevaldata;label=\"mean\",linewidth=1,color=\"yellow\")\n",
    "PyPlot.xlim(dataindex(model1)[1],dataindex(model1)[end])\n",
    "PyPlot.legend(loc=\"upper right\",fancybox=\"true\")\n",
    "PyPlot.title(\"Comparison of Mean vs Measured Light-Induced Current\")\n",
    "\n",
    "println(\"Evaluation paramater values: \")\n",
    "display(paramvals)\n",
    "println(\"Mean Log-Posterior for these parameters: \",mean(logposteriorvals))"
   ]
  },
  {
   "cell_type": "code",
   "execution_count": null,
   "metadata": {
    "collapsed": false
   },
   "outputs": [],
   "source": [
    "###Create a Metropolis sampler with a Normal proposal density\n",
    "propcov = [0.1,0.01,0.1,0.01,0.1,0.01,0.01]\n",
    "sampler1 = sampler(:mh,:normal,1.0,propcov)\n",
    "println(\"============================\")\n",
    "println(\"Sampler defined successfully\")\n",
    "println(\"============================\")\n",
    "show(sampler1)\n",
    "\n",
    "###Create a tuner, either one that scales the stepsize of the proposal density or one that monitors acceptance rates\n",
    "#tuner1 = tuner(:scale,ntunerperiod,0.5,:erf)\n",
    "tuner1 = tuner(:monitor,ntunerperiod)\n",
    "println(\"==========================\")\n",
    "println(\"Tuner defined successfully\")\n",
    "println(\"==========================\")\n",
    "show(tuner1)\n",
    "\n",
    "###Create a Generalized Metropolis-Hastings runner (which will default to Standard MH when nproposals=1)\n",
    "runnerpolicy1 = policy(:mh,nproposals;initialize=:prior)\n",
    "runner1 = runner(runnerpolicy1,niterations,nproposals;numburnin = nburnin)\n",
    "println(\"===========================\")\n",
    "println(\"Runner defined successfully\")\n",
    "println(\"===========================\")\n",
    "show(runner1)"
   ]
  },
  {
   "cell_type": "code",
   "execution_count": null,
   "metadata": {
    "collapsed": false
   },
   "outputs": [],
   "source": [
    "###Run the MCMC (can take quite a bit of time)\n",
    "println(\"=======================\")\n",
    "println(\"Run the MCMC simulation\")\n",
    "println(\"=======================\")\n",
    "chain1 = run!(runner1,model1,sampler1,tuner1)\n",
    "println(\"=========================\")\n",
    "println(\"Completed MCMC simulation\")\n",
    "println(\"=========================\")"
   ]
  },
  {
   "cell_type": "code",
   "execution_count": null,
   "metadata": {
    "collapsed": false
   },
   "outputs": [],
   "source": [
    "###Show the result of the simulations\n",
    "show(chain1)\n",
    "nparas = numparas(model1)\n",
    "meanparamvals = mean(samples(chain1),2)\n",
    "stdparamvals = std(samples(chain1),2)\n",
    "\n",
    "println(\"Results of the MCMC simulation:\")\n",
    "for i=1:nparas\n",
    "    println(\"mean $(parameters(model1)[i].key): $(meanparamvals[i])\")\n",
    "    println(\"std $(parameters(model1)[i].key): $(stdparamvals[i])\")\n",
    "end"
   ]
  },
  {
   "cell_type": "code",
   "execution_count": null,
   "metadata": {
    "collapsed": false,
    "scrolled": false
   },
   "outputs": [],
   "source": [
    "println(\"================\")\n",
    "println(\"Plotting results\")\n",
    "println(\"================\")\n",
    "\n",
    "###Plot the average model results in the data window\n",
    "PyPlot.figure()\n",
    "modeldata = evaluate!(model1,vec(meanparamvals))\n",
    "PyPlot.plot(dataindex(model1),measurements(model1);label=\"measured\",linewidth=4,color=\"yellow\")\n",
    "PyPlot.plot(dataindex(model1),modeldata;label=\"mean parameters\",linewidth=1,color=\"black\")\n",
    "PyPlot.xlim(dataindex(model1)[1],dataindex(model1)[end])\n",
    "PyPlot.legend(loc=\"upper right\",fancybox=\"true\")\n",
    "PyPlot.title(\"Model Light-Induced Current for Mean MCMC Parameter Values\")\n",
    "\n",
    "###Plot the logposterior values across samples\n",
    "PyPlot.figure()\n",
    "PyPlot.plot(1:numsamples(chain1),logposterior(chain1,model1))\n",
    "PyPlot.title(\"Log-Posterior values across samples\")\n",
    "PyPlot.xlabel(\"Samples\")\n",
    "PyPlot.ylabel(\"Log-Posterior\")"
   ]
  },
  {
   "cell_type": "code",
   "execution_count": null,
   "metadata": {
    "collapsed": false
   },
   "outputs": [],
   "source": [
    "###Plot the histograms of latency and refractory parameter values\n",
    "for i=1:4\n",
    "    PyPlot.subplot(220 + i)\n",
    "    bins = meanparamvals[i]-0.2:0.01:meanparamvals[i]+0.2\n",
    "    h = PyPlot.plt[:hist](sub(samples(chain1),i,:)',bins)\n",
    "    PyPlot.grid(\"on\")\n",
    "    PyPlot.title(\"$(parameters(model1)[i].key)\")\n",
    "    if i > 2\n",
    "        PyPlot.xlabel(\"Values\")\n",
    "    end\n",
    "    if i == 1 || i == 3\n",
    "        PyPlot.ylabel(\"Samples\")\n",
    "    end\n",
    "    PyPlot.xlim(meanparamvals[i]-0.2,meanparamvals[i]+0.2)\n",
    "end"
   ]
  },
  {
   "cell_type": "code",
   "execution_count": null,
   "metadata": {
    "collapsed": false
   },
   "outputs": [],
   "source": [
    "###Plot the histograms of bump shape parameter values\n",
    "for i=1:3\n",
    "    PyPlot.subplot(220 + i)\n",
    "    bins = meanparamvals[i+4]-0.2:0.01:meanparamvals[i+4]+0.2\n",
    "    h = PyPlot.plt[:hist](sub(samples(chain1),i+4,:)',bins)\n",
    "    PyPlot.grid(\"on\")\n",
    "    PyPlot.title(\"$(parameters(model1)[i+4].key)\")\n",
    "    if i > 2\n",
    "        PyPlot.xlabel(\"Values\")\n",
    "    end\n",
    "    if i == 1 || i == 3\n",
    "        PyPlot.ylabel(\"Samples\")\n",
    "    end\n",
    "    PyPlot.xlim(meanparamvals[i+4]-0.2,meanparamvals[i+4]+0.2)\n",
    "end\n",
    "\n",
    "###Plot the bump shape\n",
    "PyPlot.subplot(224)\n",
    "fixedbump = GMHPhotoReceptor.bump(GMHPhotoReceptor.fixedbumpvalues(modelpolicy1.fixedbump)...)\n",
    "meanbump = GMHPhotoReceptor.bump(meanparamvals[5],meanparamvals[6],meanparamvals[7],modelpolicy1.fixedbump.cutoff)\n",
    "PyPlot.plot(fixedbump;label=\"Fixed\")\n",
    "PyPlot.plot(meanbump;label=\"Mean\")\n",
    "PyPlot.title(\"Bump\")\n",
    "PyPlot.xlabel(\"Time\")\n",
    "PyPlot.legend(loc=\"upper right\",fancybox=\"true\")\n",
    "\n",
    "println(\"Length of bump with fixed values: $(length(fixedbump))\")\n",
    "println(\"Length of average fitted bump: $(length(meanbump))\")"
   ]
  },
  {
   "cell_type": "code",
   "execution_count": null,
   "metadata": {
    "collapsed": false
   },
   "outputs": [],
   "source": [
    "###Only run this box if you want to shut down all worker processes\n",
    "println(\"Pre processes running: \",procs())\n",
    "for i in workers()\n",
    "    if i != 1\n",
    "        rmprocs(i)\n",
    "    end\n",
    "end\n",
    "println(\"Post processes running: \",procs())"
   ]
  },
  {
   "cell_type": "code",
   "execution_count": null,
   "metadata": {
    "collapsed": true
   },
   "outputs": [],
   "source": []
  }
 ],
 "metadata": {
  "kernelspec": {
   "display_name": "Julia 0.4.6",
   "language": "julia",
   "name": "julia-0.4"
  },
  "language_info": {
   "file_extension": ".jl",
   "mimetype": "application/julia",
   "name": "julia",
   "version": "0.4.6"
  }
 },
 "nbformat": 4,
 "nbformat_minor": 0
}
